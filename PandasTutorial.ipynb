{
 "cells": [
  {
   "cell_type": "markdown",
   "metadata": {},
   "source": [
    "# Pandas cookbook\n",
    "http://nbviewer.jupyter.org/github/jvns/pandas-cookbook/tree/v0.1/cookbook/"
   ]
  },
  {
   "cell_type": "markdown",
   "metadata": {},
   "source": [
    "## Chapter 1 - Reading from csv"
   ]
  },
  {
   "cell_type": "code",
   "execution_count": null,
   "metadata": {
    "collapsed": true
   },
   "outputs": [],
   "source": [
    "import pandas as pd\n",
    "import os\n",
    "os.getcwd()"
   ]
  },
  {
   "cell_type": "code",
   "execution_count": null,
   "metadata": {
    "collapsed": true
   },
   "outputs": [],
   "source": [
    "broken_df = pd.read_csv(\".\\\\data\\\\bikes.csv\")"
   ]
  },
  {
   "cell_type": "code",
   "execution_count": null,
   "metadata": {
    "collapsed": true
   },
   "outputs": [],
   "source": [
    "broken_df[3:]"
   ]
  },
  {
   "cell_type": "code",
   "execution_count": null,
   "metadata": {
    "collapsed": true
   },
   "outputs": [],
   "source": [
    "fix_df = pd.read_csv('./data/bikes.csv', sep = ';', encoding = 'utf-8', parse_dates= ['Date'],\n",
    "                        dayfirst=True, index_col = 'Date')"
   ]
  },
  {
   "cell_type": "code",
   "execution_count": null,
   "metadata": {
    "collapsed": true
   },
   "outputs": [],
   "source": [
    "fix_df['Berri 1'].plot()"
   ]
  },
  {
   "cell_type": "code",
   "execution_count": null,
   "metadata": {
    "collapsed": true
   },
   "outputs": [],
   "source": [
    "fix_df.plot(figsize=(8, 8))"
   ]
  },
  {
   "cell_type": "markdown",
   "metadata": {},
   "source": [
    "## 2. Select & find"
   ]
  },
  {
   "cell_type": "code",
   "execution_count": null,
   "metadata": {
    "collapsed": true
   },
   "outputs": [],
   "source": [
    "import pandas as pd\n",
    "complaints = pd.read_csv('./data/311-service-requests.csv', low_memory = False)\n"
   ]
  },
  {
   "cell_type": "code",
   "execution_count": null,
   "metadata": {
    "collapsed": true
   },
   "outputs": [],
   "source": [
    "# pd.set_option('display.mpl_style', 'default') \n",
    "pd.set_option('display.width', 5000) \n",
    "pd.set_option('display.max_columns', 50) "
   ]
  },
  {
   "cell_type": "code",
   "execution_count": null,
   "metadata": {
    "collapsed": true
   },
   "outputs": [],
   "source": [
    "complaints[:5]"
   ]
  },
  {
   "cell_type": "code",
   "execution_count": null,
   "metadata": {
    "collapsed": true
   },
   "outputs": [],
   "source": [
    "complaints[[\"Complaint Type\", \"Borough\"]]"
   ]
  },
  {
   "cell_type": "code",
   "execution_count": null,
   "metadata": {
    "collapsed": true
   },
   "outputs": [],
   "source": [
    "complaints[\"Borough\"].value_counts().plot(kind = 'bar')"
   ]
  },
  {
   "cell_type": "markdown",
   "metadata": {},
   "source": [
    "## 3. More selecting data"
   ]
  },
  {
   "cell_type": "code",
   "execution_count": null,
   "metadata": {
    "collapsed": true
   },
   "outputs": [],
   "source": [
    "import pandas as pd"
   ]
  },
  {
   "cell_type": "code",
   "execution_count": null,
   "metadata": {
    "collapsed": true
   },
   "outputs": [],
   "source": [
    "complaints = pd.read_csv('./data/311-service-requests.csv', low_memory = False)"
   ]
  },
  {
   "cell_type": "code",
   "execution_count": null,
   "metadata": {
    "collapsed": true
   },
   "outputs": [],
   "source": [
    "noise_complaints = complaints[complaints[\"Complaint Type\"] == 'Noise - Street/Sidewalk']"
   ]
  },
  {
   "cell_type": "code",
   "execution_count": null,
   "metadata": {
    "collapsed": true
   },
   "outputs": [],
   "source": [
    "noise_complaints.head()"
   ]
  },
  {
   "cell_type": "code",
   "execution_count": null,
   "metadata": {
    "collapsed": true
   },
   "outputs": [],
   "source": [
    "noise_complaints_ct = noise_complaints[\"Borough\"].value_counts()\n",
    "complaints_ct = complaints[\"Borough\"].value_counts()\n",
    "complaints.groupby([\"Borough\", \"Agency\"]).size()"
   ]
  },
  {
   "cell_type": "code",
   "execution_count": null,
   "metadata": {
    "collapsed": true
   },
   "outputs": [],
   "source": [
    "(noise_complaints_ct / complaints_ct).plot(kind = 'bar')"
   ]
  },
  {
   "cell_type": "markdown",
   "metadata": {},
   "source": [
    "## 4. Grouping"
   ]
  },
  {
   "cell_type": "code",
   "execution_count": null,
   "metadata": {
    "collapsed": true
   },
   "outputs": [],
   "source": [
    "import pandas as pd\n",
    "bikes = pd.read_csv('./data/bikes.csv', sep = ';', encoding = 'utf-8', parse_dates= ['Date'],\n",
    "                        dayfirst=True, index_col = 'Date')"
   ]
  },
  {
   "cell_type": "code",
   "execution_count": null,
   "metadata": {
    "collapsed": true
   },
   "outputs": [],
   "source": [
    "berri = bikes[['Berri 1']]"
   ]
  },
  {
   "cell_type": "code",
   "execution_count": null,
   "metadata": {
    "collapsed": true
   },
   "outputs": [],
   "source": [
    "berri['weekday'] = berri.index.weekday"
   ]
  },
  {
   "cell_type": "code",
   "execution_count": null,
   "metadata": {
    "collapsed": true
   },
   "outputs": [],
   "source": [
    "weekday_berri = berri.groupby('weekday').sum()\n",
    "weekday_berri.index = ['Mon', 'Tue', 'Wed', 'Thu', 'Fri', 'Sat', 'San']"
   ]
  },
  {
   "cell_type": "code",
   "execution_count": null,
   "metadata": {
    "collapsed": true
   },
   "outputs": [],
   "source": [
    "weekday_berri.plot(kind = 'bar')"
   ]
  },
  {
   "cell_type": "markdown",
   "metadata": {},
   "source": [
    "## 5 Scrap scrap scrap!"
   ]
  },
  {
   "cell_type": "code",
   "execution_count": null,
   "metadata": {
    "collapsed": true
   },
   "outputs": [],
   "source": [
    "complaints[complaints[\"Complaint Type\"].str.contains('Noise')][\"Borough\"].value_counts().plot(kind = 'bar')"
   ]
  },
  {
   "cell_type": "markdown",
   "metadata": {},
   "source": [
    "## 6 Data munging"
   ]
  },
  {
   "cell_type": "code",
   "execution_count": 1,
   "metadata": {
    "collapsed": true
   },
   "outputs": [],
   "source": [
    "import pandas as pd\n",
    "import numpy as np"
   ]
  },
  {
   "cell_type": "code",
   "execution_count": 6,
   "metadata": {
    "collapsed": true
   },
   "outputs": [],
   "source": [
    "%matplotlib inline"
   ]
  },
  {
   "cell_type": "code",
   "execution_count": 7,
   "metadata": {
    "collapsed": true
   },
   "outputs": [],
   "source": [
    "weather_2012 = pd.read_csv('./data/weather_2012.csv', parse_dates= True, index_col= 'Date/Time')"
   ]
  },
  {
   "cell_type": "code",
   "execution_count": 8,
   "metadata": {
    "collapsed": true
   },
   "outputs": [],
   "source": [
    "isSnowing = weather_2012[\"Weather\"].str.contains('Snow')"
   ]
  },
  {
   "cell_type": "code",
   "execution_count": 10,
   "metadata": {},
   "outputs": [
    {
     "data": {
      "text/plain": [
       "<matplotlib.axes._subplots.AxesSubplot at 0x196e5563d68>"
      ]
     },
     "execution_count": 10,
     "metadata": {},
     "output_type": "execute_result"
    },
    {
     "data": {
      "image/png": "[encoded data removed]",
      "text/plain": [
       "<matplotlib.figure.Figure at 0x196e55716a0>"
      ]
     },
     "metadata": {},
     "output_type": "display_data"
    }
   ],
   "source": [
    "# not working\n",
    "isSnowing.plot()"
   ]
  },
  {
   "cell_type": "code",
   "execution_count": 51,
   "metadata": {
    "scrolled": true
   },
   "outputs": [
    {
     "data": {
      "text/html": [
       "<div>\n",
       "<style>\n",
       "    .dataframe thead tr:only-child th {\n",
       "        text-align: right;\n",
       "    }\n",
       "\n",
       "    .dataframe thead th {\n",
       "        text-align: left;\n",
       "    }\n",
       "\n",
       "    .dataframe tbody tr th {\n",
       "        vertical-align: top;\n",
       "    }\n",
       "</style>\n",
       "<table border=\"1\" class=\"dataframe\">\n",
       "  <thead>\n",
       "    <tr style=\"text-align: right;\">\n",
       "      <th></th>\n",
       "      <th>Temp (C)</th>\n",
       "      <th>Dew Point Temp (C)</th>\n",
       "      <th>Rel Hum (%)</th>\n",
       "      <th>Wind Spd (km/h)</th>\n",
       "      <th>Visibility (km)</th>\n",
       "      <th>Stn Press (kPa)</th>\n",
       "      <th>Weather</th>\n",
       "    </tr>\n",
       "    <tr>\n",
       "      <th>Date/Time</th>\n",
       "      <th></th>\n",
       "      <th></th>\n",
       "      <th></th>\n",
       "      <th></th>\n",
       "      <th></th>\n",
       "      <th></th>\n",
       "      <th></th>\n",
       "    </tr>\n",
       "  </thead>\n",
       "  <tbody>\n",
       "    <tr>\n",
       "      <th>2012-01-01 00:00:00</th>\n",
       "      <td>-1.8</td>\n",
       "      <td>-3.9</td>\n",
       "      <td>86</td>\n",
       "      <td>4</td>\n",
       "      <td>8.0</td>\n",
       "      <td>101.24</td>\n",
       "      <td>Fog</td>\n",
       "    </tr>\n",
       "    <tr>\n",
       "      <th>2012-01-01 01:00:00</th>\n",
       "      <td>-1.8</td>\n",
       "      <td>-3.7</td>\n",
       "      <td>87</td>\n",
       "      <td>4</td>\n",
       "      <td>8.0</td>\n",
       "      <td>101.24</td>\n",
       "      <td>Fog</td>\n",
       "    </tr>\n",
       "    <tr>\n",
       "      <th>2012-01-01 02:00:00</th>\n",
       "      <td>-1.8</td>\n",
       "      <td>-3.4</td>\n",
       "      <td>89</td>\n",
       "      <td>7</td>\n",
       "      <td>4.0</td>\n",
       "      <td>101.26</td>\n",
       "      <td>Freezing Drizzle,Fog</td>\n",
       "    </tr>\n",
       "    <tr>\n",
       "      <th>2012-01-01 03:00:00</th>\n",
       "      <td>-1.5</td>\n",
       "      <td>-3.2</td>\n",
       "      <td>88</td>\n",
       "      <td>6</td>\n",
       "      <td>4.0</td>\n",
       "      <td>101.27</td>\n",
       "      <td>Freezing Drizzle,Fog</td>\n",
       "    </tr>\n",
       "    <tr>\n",
       "      <th>2012-01-01 04:00:00</th>\n",
       "      <td>-1.5</td>\n",
       "      <td>-3.3</td>\n",
       "      <td>88</td>\n",
       "      <td>7</td>\n",
       "      <td>4.8</td>\n",
       "      <td>101.23</td>\n",
       "      <td>Fog</td>\n",
       "    </tr>\n",
       "    <tr>\n",
       "      <th>2012-01-01 05:00:00</th>\n",
       "      <td>-1.4</td>\n",
       "      <td>-3.3</td>\n",
       "      <td>87</td>\n",
       "      <td>9</td>\n",
       "      <td>6.4</td>\n",
       "      <td>101.27</td>\n",
       "      <td>Fog</td>\n",
       "    </tr>\n",
       "    <tr>\n",
       "      <th>2012-01-01 06:00:00</th>\n",
       "      <td>-1.5</td>\n",
       "      <td>-3.1</td>\n",
       "      <td>89</td>\n",
       "      <td>7</td>\n",
       "      <td>6.4</td>\n",
       "      <td>101.29</td>\n",
       "      <td>Fog</td>\n",
       "    </tr>\n",
       "    <tr>\n",
       "      <th>2012-01-01 07:00:00</th>\n",
       "      <td>-1.4</td>\n",
       "      <td>-3.6</td>\n",
       "      <td>85</td>\n",
       "      <td>7</td>\n",
       "      <td>8.0</td>\n",
       "      <td>101.26</td>\n",
       "      <td>Fog</td>\n",
       "    </tr>\n",
       "    <tr>\n",
       "      <th>2012-01-01 08:00:00</th>\n",
       "      <td>-1.4</td>\n",
       "      <td>-3.6</td>\n",
       "      <td>85</td>\n",
       "      <td>9</td>\n",
       "      <td>8.0</td>\n",
       "      <td>101.23</td>\n",
       "      <td>Fog</td>\n",
       "    </tr>\n",
       "    <tr>\n",
       "      <th>2012-01-01 09:00:00</th>\n",
       "      <td>-1.3</td>\n",
       "      <td>-3.1</td>\n",
       "      <td>88</td>\n",
       "      <td>15</td>\n",
       "      <td>4.0</td>\n",
       "      <td>101.20</td>\n",
       "      <td>Fog</td>\n",
       "    </tr>\n",
       "    <tr>\n",
       "      <th>2012-01-01 10:00:00</th>\n",
       "      <td>-1.0</td>\n",
       "      <td>-2.3</td>\n",
       "      <td>91</td>\n",
       "      <td>9</td>\n",
       "      <td>1.2</td>\n",
       "      <td>101.15</td>\n",
       "      <td>Fog</td>\n",
       "    </tr>\n",
       "    <tr>\n",
       "      <th>2012-01-01 11:00:00</th>\n",
       "      <td>-0.5</td>\n",
       "      <td>-2.1</td>\n",
       "      <td>89</td>\n",
       "      <td>7</td>\n",
       "      <td>4.0</td>\n",
       "      <td>100.98</td>\n",
       "      <td>Fog</td>\n",
       "    </tr>\n",
       "    <tr>\n",
       "      <th>2012-01-01 12:00:00</th>\n",
       "      <td>-0.2</td>\n",
       "      <td>-2.0</td>\n",
       "      <td>88</td>\n",
       "      <td>9</td>\n",
       "      <td>4.8</td>\n",
       "      <td>100.79</td>\n",
       "      <td>Fog</td>\n",
       "    </tr>\n",
       "    <tr>\n",
       "      <th>2012-01-01 13:00:00</th>\n",
       "      <td>0.2</td>\n",
       "      <td>-1.7</td>\n",
       "      <td>87</td>\n",
       "      <td>13</td>\n",
       "      <td>4.8</td>\n",
       "      <td>100.58</td>\n",
       "      <td>Fog</td>\n",
       "    </tr>\n",
       "    <tr>\n",
       "      <th>2012-01-01 14:00:00</th>\n",
       "      <td>0.8</td>\n",
       "      <td>-1.1</td>\n",
       "      <td>87</td>\n",
       "      <td>20</td>\n",
       "      <td>4.8</td>\n",
       "      <td>100.31</td>\n",
       "      <td>Fog</td>\n",
       "    </tr>\n",
       "    <tr>\n",
       "      <th>2012-01-01 15:00:00</th>\n",
       "      <td>1.8</td>\n",
       "      <td>-0.4</td>\n",
       "      <td>85</td>\n",
       "      <td>22</td>\n",
       "      <td>6.4</td>\n",
       "      <td>100.07</td>\n",
       "      <td>Fog</td>\n",
       "    </tr>\n",
       "    <tr>\n",
       "      <th>2012-01-01 16:00:00</th>\n",
       "      <td>2.6</td>\n",
       "      <td>-0.2</td>\n",
       "      <td>82</td>\n",
       "      <td>13</td>\n",
       "      <td>12.9</td>\n",
       "      <td>99.93</td>\n",
       "      <td>Mostly Cloudy</td>\n",
       "    </tr>\n",
       "    <tr>\n",
       "      <th>2012-01-01 17:00:00</th>\n",
       "      <td>3.0</td>\n",
       "      <td>0.0</td>\n",
       "      <td>81</td>\n",
       "      <td>13</td>\n",
       "      <td>16.1</td>\n",
       "      <td>99.81</td>\n",
       "      <td>Cloudy</td>\n",
       "    </tr>\n",
       "    <tr>\n",
       "      <th>2012-01-01 18:00:00</th>\n",
       "      <td>3.8</td>\n",
       "      <td>1.0</td>\n",
       "      <td>82</td>\n",
       "      <td>15</td>\n",
       "      <td>12.9</td>\n",
       "      <td>99.74</td>\n",
       "      <td>Rain</td>\n",
       "    </tr>\n",
       "    <tr>\n",
       "      <th>2012-01-01 19:00:00</th>\n",
       "      <td>3.1</td>\n",
       "      <td>1.3</td>\n",
       "      <td>88</td>\n",
       "      <td>15</td>\n",
       "      <td>12.9</td>\n",
       "      <td>99.68</td>\n",
       "      <td>Rain</td>\n",
       "    </tr>\n",
       "    <tr>\n",
       "      <th>2012-01-01 20:00:00</th>\n",
       "      <td>3.2</td>\n",
       "      <td>1.3</td>\n",
       "      <td>87</td>\n",
       "      <td>19</td>\n",
       "      <td>25.0</td>\n",
       "      <td>99.50</td>\n",
       "      <td>Cloudy</td>\n",
       "    </tr>\n",
       "    <tr>\n",
       "      <th>2012-01-01 21:00:00</th>\n",
       "      <td>4.0</td>\n",
       "      <td>1.7</td>\n",
       "      <td>85</td>\n",
       "      <td>20</td>\n",
       "      <td>25.0</td>\n",
       "      <td>99.39</td>\n",
       "      <td>Cloudy</td>\n",
       "    </tr>\n",
       "    <tr>\n",
       "      <th>2012-01-01 22:00:00</th>\n",
       "      <td>4.4</td>\n",
       "      <td>1.9</td>\n",
       "      <td>84</td>\n",
       "      <td>24</td>\n",
       "      <td>19.3</td>\n",
       "      <td>99.32</td>\n",
       "      <td>Rain Showers</td>\n",
       "    </tr>\n",
       "    <tr>\n",
       "      <th>2012-01-01 23:00:00</th>\n",
       "      <td>5.3</td>\n",
       "      <td>2.0</td>\n",
       "      <td>79</td>\n",
       "      <td>30</td>\n",
       "      <td>25.0</td>\n",
       "      <td>99.31</td>\n",
       "      <td>Cloudy</td>\n",
       "    </tr>\n",
       "    <tr>\n",
       "      <th>2012-01-02 00:00:00</th>\n",
       "      <td>5.2</td>\n",
       "      <td>1.5</td>\n",
       "      <td>77</td>\n",
       "      <td>35</td>\n",
       "      <td>25.0</td>\n",
       "      <td>99.26</td>\n",
       "      <td>Rain Showers</td>\n",
       "    </tr>\n",
       "    <tr>\n",
       "      <th>2012-01-02 01:00:00</th>\n",
       "      <td>4.6</td>\n",
       "      <td>0.0</td>\n",
       "      <td>72</td>\n",
       "      <td>39</td>\n",
       "      <td>25.0</td>\n",
       "      <td>99.26</td>\n",
       "      <td>Cloudy</td>\n",
       "    </tr>\n",
       "    <tr>\n",
       "      <th>2012-01-02 02:00:00</th>\n",
       "      <td>3.9</td>\n",
       "      <td>-0.9</td>\n",
       "      <td>71</td>\n",
       "      <td>32</td>\n",
       "      <td>25.0</td>\n",
       "      <td>99.26</td>\n",
       "      <td>Mostly Cloudy</td>\n",
       "    </tr>\n",
       "    <tr>\n",
       "      <th>2012-01-02 03:00:00</th>\n",
       "      <td>3.7</td>\n",
       "      <td>-1.5</td>\n",
       "      <td>69</td>\n",
       "      <td>33</td>\n",
       "      <td>25.0</td>\n",
       "      <td>99.30</td>\n",
       "      <td>Mostly Cloudy</td>\n",
       "    </tr>\n",
       "    <tr>\n",
       "      <th>2012-01-02 04:00:00</th>\n",
       "      <td>2.9</td>\n",
       "      <td>-2.3</td>\n",
       "      <td>69</td>\n",
       "      <td>32</td>\n",
       "      <td>25.0</td>\n",
       "      <td>99.26</td>\n",
       "      <td>Mostly Cloudy</td>\n",
       "    </tr>\n",
       "    <tr>\n",
       "      <th>2012-01-02 05:00:00</th>\n",
       "      <td>2.6</td>\n",
       "      <td>-2.3</td>\n",
       "      <td>70</td>\n",
       "      <td>32</td>\n",
       "      <td>25.0</td>\n",
       "      <td>99.21</td>\n",
       "      <td>Mostly Cloudy</td>\n",
       "    </tr>\n",
       "    <tr>\n",
       "      <th>...</th>\n",
       "      <td>...</td>\n",
       "      <td>...</td>\n",
       "      <td>...</td>\n",
       "      <td>...</td>\n",
       "      <td>...</td>\n",
       "      <td>...</td>\n",
       "      <td>...</td>\n",
       "    </tr>\n",
       "    <tr>\n",
       "      <th>2012-12-30 18:00:00</th>\n",
       "      <td>-12.6</td>\n",
       "      <td>-16.0</td>\n",
       "      <td>76</td>\n",
       "      <td>24</td>\n",
       "      <td>25.0</td>\n",
       "      <td>101.36</td>\n",
       "      <td>Mainly Clear</td>\n",
       "    </tr>\n",
       "    <tr>\n",
       "      <th>2012-12-30 19:00:00</th>\n",
       "      <td>-13.4</td>\n",
       "      <td>-16.5</td>\n",
       "      <td>77</td>\n",
       "      <td>26</td>\n",
       "      <td>25.0</td>\n",
       "      <td>101.47</td>\n",
       "      <td>Mainly Clear</td>\n",
       "    </tr>\n",
       "    <tr>\n",
       "      <th>2012-12-30 20:00:00</th>\n",
       "      <td>-13.8</td>\n",
       "      <td>-16.5</td>\n",
       "      <td>80</td>\n",
       "      <td>24</td>\n",
       "      <td>25.0</td>\n",
       "      <td>101.52</td>\n",
       "      <td>Clear</td>\n",
       "    </tr>\n",
       "    <tr>\n",
       "      <th>2012-12-30 21:00:00</th>\n",
       "      <td>-13.8</td>\n",
       "      <td>-16.5</td>\n",
       "      <td>80</td>\n",
       "      <td>20</td>\n",
       "      <td>25.0</td>\n",
       "      <td>101.50</td>\n",
       "      <td>Mainly Clear</td>\n",
       "    </tr>\n",
       "    <tr>\n",
       "      <th>2012-12-30 22:00:00</th>\n",
       "      <td>-13.7</td>\n",
       "      <td>-16.3</td>\n",
       "      <td>81</td>\n",
       "      <td>19</td>\n",
       "      <td>25.0</td>\n",
       "      <td>101.54</td>\n",
       "      <td>Mainly Clear</td>\n",
       "    </tr>\n",
       "    <tr>\n",
       "      <th>2012-12-30 23:00:00</th>\n",
       "      <td>-12.1</td>\n",
       "      <td>-15.1</td>\n",
       "      <td>78</td>\n",
       "      <td>28</td>\n",
       "      <td>25.0</td>\n",
       "      <td>101.52</td>\n",
       "      <td>Mostly Cloudy</td>\n",
       "    </tr>\n",
       "    <tr>\n",
       "      <th>2012-12-31 00:00:00</th>\n",
       "      <td>-11.1</td>\n",
       "      <td>-14.4</td>\n",
       "      <td>77</td>\n",
       "      <td>26</td>\n",
       "      <td>25.0</td>\n",
       "      <td>101.51</td>\n",
       "      <td>Cloudy</td>\n",
       "    </tr>\n",
       "    <tr>\n",
       "      <th>2012-12-31 01:00:00</th>\n",
       "      <td>-10.7</td>\n",
       "      <td>-14.0</td>\n",
       "      <td>77</td>\n",
       "      <td>15</td>\n",
       "      <td>25.0</td>\n",
       "      <td>101.50</td>\n",
       "      <td>Cloudy</td>\n",
       "    </tr>\n",
       "    <tr>\n",
       "      <th>2012-12-31 02:00:00</th>\n",
       "      <td>-10.1</td>\n",
       "      <td>-13.4</td>\n",
       "      <td>77</td>\n",
       "      <td>9</td>\n",
       "      <td>25.0</td>\n",
       "      <td>101.45</td>\n",
       "      <td>Cloudy</td>\n",
       "    </tr>\n",
       "    <tr>\n",
       "      <th>2012-12-31 03:00:00</th>\n",
       "      <td>-11.8</td>\n",
       "      <td>-14.4</td>\n",
       "      <td>81</td>\n",
       "      <td>6</td>\n",
       "      <td>25.0</td>\n",
       "      <td>101.42</td>\n",
       "      <td>Mostly Cloudy</td>\n",
       "    </tr>\n",
       "    <tr>\n",
       "      <th>2012-12-31 04:00:00</th>\n",
       "      <td>-10.5</td>\n",
       "      <td>-12.8</td>\n",
       "      <td>83</td>\n",
       "      <td>11</td>\n",
       "      <td>25.0</td>\n",
       "      <td>101.34</td>\n",
       "      <td>Cloudy</td>\n",
       "    </tr>\n",
       "    <tr>\n",
       "      <th>2012-12-31 05:00:00</th>\n",
       "      <td>-10.2</td>\n",
       "      <td>-12.4</td>\n",
       "      <td>84</td>\n",
       "      <td>6</td>\n",
       "      <td>25.0</td>\n",
       "      <td>101.28</td>\n",
       "      <td>Cloudy</td>\n",
       "    </tr>\n",
       "    <tr>\n",
       "      <th>2012-12-31 06:00:00</th>\n",
       "      <td>-9.7</td>\n",
       "      <td>-11.7</td>\n",
       "      <td>85</td>\n",
       "      <td>4</td>\n",
       "      <td>25.0</td>\n",
       "      <td>101.23</td>\n",
       "      <td>Cloudy</td>\n",
       "    </tr>\n",
       "    <tr>\n",
       "      <th>2012-12-31 07:00:00</th>\n",
       "      <td>-9.3</td>\n",
       "      <td>-11.3</td>\n",
       "      <td>85</td>\n",
       "      <td>0</td>\n",
       "      <td>19.3</td>\n",
       "      <td>101.19</td>\n",
       "      <td>Snow Showers</td>\n",
       "    </tr>\n",
       "    <tr>\n",
       "      <th>2012-12-31 08:00:00</th>\n",
       "      <td>-8.6</td>\n",
       "      <td>-10.3</td>\n",
       "      <td>87</td>\n",
       "      <td>4</td>\n",
       "      <td>3.2</td>\n",
       "      <td>101.14</td>\n",
       "      <td>Snow Showers</td>\n",
       "    </tr>\n",
       "    <tr>\n",
       "      <th>2012-12-31 09:00:00</th>\n",
       "      <td>-8.1</td>\n",
       "      <td>-9.6</td>\n",
       "      <td>89</td>\n",
       "      <td>4</td>\n",
       "      <td>2.4</td>\n",
       "      <td>101.09</td>\n",
       "      <td>Snow</td>\n",
       "    </tr>\n",
       "    <tr>\n",
       "      <th>2012-12-31 10:00:00</th>\n",
       "      <td>-7.4</td>\n",
       "      <td>-8.9</td>\n",
       "      <td>89</td>\n",
       "      <td>4</td>\n",
       "      <td>6.4</td>\n",
       "      <td>101.05</td>\n",
       "      <td>Snow,Fog</td>\n",
       "    </tr>\n",
       "    <tr>\n",
       "      <th>2012-12-31 11:00:00</th>\n",
       "      <td>-6.7</td>\n",
       "      <td>-7.9</td>\n",
       "      <td>91</td>\n",
       "      <td>9</td>\n",
       "      <td>9.7</td>\n",
       "      <td>100.93</td>\n",
       "      <td>Snow</td>\n",
       "    </tr>\n",
       "    <tr>\n",
       "      <th>2012-12-31 12:00:00</th>\n",
       "      <td>-5.8</td>\n",
       "      <td>-7.5</td>\n",
       "      <td>88</td>\n",
       "      <td>4</td>\n",
       "      <td>12.9</td>\n",
       "      <td>100.78</td>\n",
       "      <td>Snow</td>\n",
       "    </tr>\n",
       "    <tr>\n",
       "      <th>2012-12-31 13:00:00</th>\n",
       "      <td>-4.6</td>\n",
       "      <td>-6.6</td>\n",
       "      <td>86</td>\n",
       "      <td>4</td>\n",
       "      <td>12.9</td>\n",
       "      <td>100.63</td>\n",
       "      <td>Snow</td>\n",
       "    </tr>\n",
       "    <tr>\n",
       "      <th>2012-12-31 14:00:00</th>\n",
       "      <td>-3.4</td>\n",
       "      <td>-5.7</td>\n",
       "      <td>84</td>\n",
       "      <td>6</td>\n",
       "      <td>11.3</td>\n",
       "      <td>100.57</td>\n",
       "      <td>Snow</td>\n",
       "    </tr>\n",
       "    <tr>\n",
       "      <th>2012-12-31 15:00:00</th>\n",
       "      <td>-2.3</td>\n",
       "      <td>-4.6</td>\n",
       "      <td>84</td>\n",
       "      <td>9</td>\n",
       "      <td>9.7</td>\n",
       "      <td>100.47</td>\n",
       "      <td>Snow</td>\n",
       "    </tr>\n",
       "    <tr>\n",
       "      <th>2012-12-31 16:00:00</th>\n",
       "      <td>-1.4</td>\n",
       "      <td>-4.0</td>\n",
       "      <td>82</td>\n",
       "      <td>13</td>\n",
       "      <td>12.9</td>\n",
       "      <td>100.40</td>\n",
       "      <td>Snow</td>\n",
       "    </tr>\n",
       "    <tr>\n",
       "      <th>2012-12-31 17:00:00</th>\n",
       "      <td>-1.1</td>\n",
       "      <td>-3.3</td>\n",
       "      <td>85</td>\n",
       "      <td>19</td>\n",
       "      <td>9.7</td>\n",
       "      <td>100.30</td>\n",
       "      <td>Snow</td>\n",
       "    </tr>\n",
       "    <tr>\n",
       "      <th>2012-12-31 18:00:00</th>\n",
       "      <td>-1.3</td>\n",
       "      <td>-3.1</td>\n",
       "      <td>88</td>\n",
       "      <td>17</td>\n",
       "      <td>9.7</td>\n",
       "      <td>100.19</td>\n",
       "      <td>Snow</td>\n",
       "    </tr>\n",
       "    <tr>\n",
       "      <th>2012-12-31 19:00:00</th>\n",
       "      <td>0.1</td>\n",
       "      <td>-2.7</td>\n",
       "      <td>81</td>\n",
       "      <td>30</td>\n",
       "      <td>9.7</td>\n",
       "      <td>100.13</td>\n",
       "      <td>Snow</td>\n",
       "    </tr>\n",
       "    <tr>\n",
       "      <th>2012-12-31 20:00:00</th>\n",
       "      <td>0.2</td>\n",
       "      <td>-2.4</td>\n",
       "      <td>83</td>\n",
       "      <td>24</td>\n",
       "      <td>9.7</td>\n",
       "      <td>100.03</td>\n",
       "      <td>Snow</td>\n",
       "    </tr>\n",
       "    <tr>\n",
       "      <th>2012-12-31 21:00:00</th>\n",
       "      <td>-0.5</td>\n",
       "      <td>-1.5</td>\n",
       "      <td>93</td>\n",
       "      <td>28</td>\n",
       "      <td>4.8</td>\n",
       "      <td>99.95</td>\n",
       "      <td>Snow</td>\n",
       "    </tr>\n",
       "    <tr>\n",
       "      <th>2012-12-31 22:00:00</th>\n",
       "      <td>-0.2</td>\n",
       "      <td>-1.8</td>\n",
       "      <td>89</td>\n",
       "      <td>28</td>\n",
       "      <td>9.7</td>\n",
       "      <td>99.91</td>\n",
       "      <td>Snow</td>\n",
       "    </tr>\n",
       "    <tr>\n",
       "      <th>2012-12-31 23:00:00</th>\n",
       "      <td>0.0</td>\n",
       "      <td>-2.1</td>\n",
       "      <td>86</td>\n",
       "      <td>30</td>\n",
       "      <td>11.3</td>\n",
       "      <td>99.89</td>\n",
       "      <td>Snow</td>\n",
       "    </tr>\n",
       "  </tbody>\n",
       "</table>\n",
       "<p>8784 rows × 7 columns</p>\n",
       "</div>"
      ],
      "text/plain": [
       "                     Temp (C)  Dew Point Temp (C)  Rel Hum (%)  \\\n",
       "Date/Time                                                        \n",
       "2012-01-01 00:00:00      -1.8                -3.9           86   \n",
       "2012-01-01 01:00:00      -1.8                -3.7           87   \n",
       "2012-01-01 02:00:00      -1.8                -3.4           89   \n",
       "2012-01-01 03:00:00      -1.5                -3.2           88   \n",
       "2012-01-01 04:00:00      -1.5                -3.3           88   \n",
       "2012-01-01 05:00:00      -1.4                -3.3           87   \n",
       "2012-01-01 06:00:00      -1.5                -3.1           89   \n",
       "2012-01-01 07:00:00      -1.4                -3.6           85   \n",
       "2012-01-01 08:00:00      -1.4                -3.6           85   \n",
       "2012-01-01 09:00:00      -1.3                -3.1           88   \n",
       "2012-01-01 10:00:00      -1.0                -2.3           91   \n",
       "2012-01-01 11:00:00      -0.5                -2.1           89   \n",
       "2012-01-01 12:00:00      -0.2                -2.0           88   \n",
       "2012-01-01 13:00:00       0.2                -1.7           87   \n",
       "2012-01-01 14:00:00       0.8                -1.1           87   \n",
       "2012-01-01 15:00:00       1.8                -0.4           85   \n",
       "2012-01-01 16:00:00       2.6                -0.2           82   \n",
       "2012-01-01 17:00:00       3.0                 0.0           81   \n",
       "2012-01-01 18:00:00       3.8                 1.0           82   \n",
       "2012-01-01 19:00:00       3.1                 1.3           88   \n",
       "2012-01-01 20:00:00       3.2                 1.3           87   \n",
       "2012-01-01 21:00:00       4.0                 1.7           85   \n",
       "2012-01-01 22:00:00       4.4                 1.9           84   \n",
       "2012-01-01 23:00:00       5.3                 2.0           79   \n",
       "2012-01-02 00:00:00       5.2                 1.5           77   \n",
       "2012-01-02 01:00:00       4.6                 0.0           72   \n",
       "2012-01-02 02:00:00       3.9                -0.9           71   \n",
       "2012-01-02 03:00:00       3.7                -1.5           69   \n",
       "2012-01-02 04:00:00       2.9                -2.3           69   \n",
       "2012-01-02 05:00:00       2.6                -2.3           70   \n",
       "...                       ...                 ...          ...   \n",
       "2012-12-30 18:00:00     -12.6               -16.0           76   \n",
       "2012-12-30 19:00:00     -13.4               -16.5           77   \n",
       "2012-12-30 20:00:00     -13.8               -16.5           80   \n",
       "2012-12-30 21:00:00     -13.8               -16.5           80   \n",
       "2012-12-30 22:00:00     -13.7               -16.3           81   \n",
       "2012-12-30 23:00:00     -12.1               -15.1           78   \n",
       "2012-12-31 00:00:00     -11.1               -14.4           77   \n",
       "2012-12-31 01:00:00     -10.7               -14.0           77   \n",
       "2012-12-31 02:00:00     -10.1               -13.4           77   \n",
       "2012-12-31 03:00:00     -11.8               -14.4           81   \n",
       "2012-12-31 04:00:00     -10.5               -12.8           83   \n",
       "2012-12-31 05:00:00     -10.2               -12.4           84   \n",
       "2012-12-31 06:00:00      -9.7               -11.7           85   \n",
       "2012-12-31 07:00:00      -9.3               -11.3           85   \n",
       "2012-12-31 08:00:00      -8.6               -10.3           87   \n",
       "2012-12-31 09:00:00      -8.1                -9.6           89   \n",
       "2012-12-31 10:00:00      -7.4                -8.9           89   \n",
       "2012-12-31 11:00:00      -6.7                -7.9           91   \n",
       "2012-12-31 12:00:00      -5.8                -7.5           88   \n",
       "2012-12-31 13:00:00      -4.6                -6.6           86   \n",
       "2012-12-31 14:00:00      -3.4                -5.7           84   \n",
       "2012-12-31 15:00:00      -2.3                -4.6           84   \n",
       "2012-12-31 16:00:00      -1.4                -4.0           82   \n",
       "2012-12-31 17:00:00      -1.1                -3.3           85   \n",
       "2012-12-31 18:00:00      -1.3                -3.1           88   \n",
       "2012-12-31 19:00:00       0.1                -2.7           81   \n",
       "2012-12-31 20:00:00       0.2                -2.4           83   \n",
       "2012-12-31 21:00:00      -0.5                -1.5           93   \n",
       "2012-12-31 22:00:00      -0.2                -1.8           89   \n",
       "2012-12-31 23:00:00       0.0                -2.1           86   \n",
       "\n",
       "                     Wind Spd (km/h)  Visibility (km)  Stn Press (kPa)  \\\n",
       "Date/Time                                                                \n",
       "2012-01-01 00:00:00                4              8.0           101.24   \n",
       "2012-01-01 01:00:00                4              8.0           101.24   \n",
       "2012-01-01 02:00:00                7              4.0           101.26   \n",
       "2012-01-01 03:00:00                6              4.0           101.27   \n",
       "2012-01-01 04:00:00                7              4.8           101.23   \n",
       "2012-01-01 05:00:00                9              6.4           101.27   \n",
       "2012-01-01 06:00:00                7              6.4           101.29   \n",
       "2012-01-01 07:00:00                7              8.0           101.26   \n",
       "2012-01-01 08:00:00                9              8.0           101.23   \n",
       "2012-01-01 09:00:00               15              4.0           101.20   \n",
       "2012-01-01 10:00:00                9              1.2           101.15   \n",
       "2012-01-01 11:00:00                7              4.0           100.98   \n",
       "2012-01-01 12:00:00                9              4.8           100.79   \n",
       "2012-01-01 13:00:00               13              4.8           100.58   \n",
       "2012-01-01 14:00:00               20              4.8           100.31   \n",
       "2012-01-01 15:00:00               22              6.4           100.07   \n",
       "2012-01-01 16:00:00               13             12.9            99.93   \n",
       "2012-01-01 17:00:00               13             16.1            99.81   \n",
       "2012-01-01 18:00:00               15             12.9            99.74   \n",
       "2012-01-01 19:00:00               15             12.9            99.68   \n",
       "2012-01-01 20:00:00               19             25.0            99.50   \n",
       "2012-01-01 21:00:00               20             25.0            99.39   \n",
       "2012-01-01 22:00:00               24             19.3            99.32   \n",
       "2012-01-01 23:00:00               30             25.0            99.31   \n",
       "2012-01-02 00:00:00               35             25.0            99.26   \n",
       "2012-01-02 01:00:00               39             25.0            99.26   \n",
       "2012-01-02 02:00:00               32             25.0            99.26   \n",
       "2012-01-02 03:00:00               33             25.0            99.30   \n",
       "2012-01-02 04:00:00               32             25.0            99.26   \n",
       "2012-01-02 05:00:00               32             25.0            99.21   \n",
       "...                              ...              ...              ...   \n",
       "2012-12-30 18:00:00               24             25.0           101.36   \n",
       "2012-12-30 19:00:00               26             25.0           101.47   \n",
       "2012-12-30 20:00:00               24             25.0           101.52   \n",
       "2012-12-30 21:00:00               20             25.0           101.50   \n",
       "2012-12-30 22:00:00               19             25.0           101.54   \n",
       "2012-12-30 23:00:00               28             25.0           101.52   \n",
       "2012-12-31 00:00:00               26             25.0           101.51   \n",
       "2012-12-31 01:00:00               15             25.0           101.50   \n",
       "2012-12-31 02:00:00                9             25.0           101.45   \n",
       "2012-12-31 03:00:00                6             25.0           101.42   \n",
       "2012-12-31 04:00:00               11             25.0           101.34   \n",
       "2012-12-31 05:00:00                6             25.0           101.28   \n",
       "2012-12-31 06:00:00                4             25.0           101.23   \n",
       "2012-12-31 07:00:00                0             19.3           101.19   \n",
       "2012-12-31 08:00:00                4              3.2           101.14   \n",
       "2012-12-31 09:00:00                4              2.4           101.09   \n",
       "2012-12-31 10:00:00                4              6.4           101.05   \n",
       "2012-12-31 11:00:00                9              9.7           100.93   \n",
       "2012-12-31 12:00:00                4             12.9           100.78   \n",
       "2012-12-31 13:00:00                4             12.9           100.63   \n",
       "2012-12-31 14:00:00                6             11.3           100.57   \n",
       "2012-12-31 15:00:00                9              9.7           100.47   \n",
       "2012-12-31 16:00:00               13             12.9           100.40   \n",
       "2012-12-31 17:00:00               19              9.7           100.30   \n",
       "2012-12-31 18:00:00               17              9.7           100.19   \n",
       "2012-12-31 19:00:00               30              9.7           100.13   \n",
       "2012-12-31 20:00:00               24              9.7           100.03   \n",
       "2012-12-31 21:00:00               28              4.8            99.95   \n",
       "2012-12-31 22:00:00               28              9.7            99.91   \n",
       "2012-12-31 23:00:00               30             11.3            99.89   \n",
       "\n",
       "                                  Weather  \n",
       "Date/Time                                  \n",
       "2012-01-01 00:00:00                   Fog  \n",
       "2012-01-01 01:00:00                   Fog  \n",
       "2012-01-01 02:00:00  Freezing Drizzle,Fog  \n",
       "2012-01-01 03:00:00  Freezing Drizzle,Fog  \n",
       "2012-01-01 04:00:00                   Fog  \n",
       "2012-01-01 05:00:00                   Fog  \n",
       "2012-01-01 06:00:00                   Fog  \n",
       "2012-01-01 07:00:00                   Fog  \n",
       "2012-01-01 08:00:00                   Fog  \n",
       "2012-01-01 09:00:00                   Fog  \n",
       "2012-01-01 10:00:00                   Fog  \n",
       "2012-01-01 11:00:00                   Fog  \n",
       "2012-01-01 12:00:00                   Fog  \n",
       "2012-01-01 13:00:00                   Fog  \n",
       "2012-01-01 14:00:00                   Fog  \n",
       "2012-01-01 15:00:00                   Fog  \n",
       "2012-01-01 16:00:00         Mostly Cloudy  \n",
       "2012-01-01 17:00:00                Cloudy  \n",
       "2012-01-01 18:00:00                  Rain  \n",
       "2012-01-01 19:00:00                  Rain  \n",
       "2012-01-01 20:00:00                Cloudy  \n",
       "2012-01-01 21:00:00                Cloudy  \n",
       "2012-01-01 22:00:00          Rain Showers  \n",
       "2012-01-01 23:00:00                Cloudy  \n",
       "2012-01-02 00:00:00          Rain Showers  \n",
       "2012-01-02 01:00:00                Cloudy  \n",
       "2012-01-02 02:00:00         Mostly Cloudy  \n",
       "2012-01-02 03:00:00         Mostly Cloudy  \n",
       "2012-01-02 04:00:00         Mostly Cloudy  \n",
       "2012-01-02 05:00:00         Mostly Cloudy  \n",
       "...                                   ...  \n",
       "2012-12-30 18:00:00          Mainly Clear  \n",
       "2012-12-30 19:00:00          Mainly Clear  \n",
       "2012-12-30 20:00:00                 Clear  \n",
       "2012-12-30 21:00:00          Mainly Clear  \n",
       "2012-12-30 22:00:00          Mainly Clear  \n",
       "2012-12-30 23:00:00         Mostly Cloudy  \n",
       "2012-12-31 00:00:00                Cloudy  \n",
       "2012-12-31 01:00:00                Cloudy  \n",
       "2012-12-31 02:00:00                Cloudy  \n",
       "2012-12-31 03:00:00         Mostly Cloudy  \n",
       "2012-12-31 04:00:00                Cloudy  \n",
       "2012-12-31 05:00:00                Cloudy  \n",
       "2012-12-31 06:00:00                Cloudy  \n",
       "2012-12-31 07:00:00          Snow Showers  \n",
       "2012-12-31 08:00:00          Snow Showers  \n",
       "2012-12-31 09:00:00                  Snow  \n",
       "2012-12-31 10:00:00              Snow,Fog  \n",
       "2012-12-31 11:00:00                  Snow  \n",
       "2012-12-31 12:00:00                  Snow  \n",
       "2012-12-31 13:00:00                  Snow  \n",
       "2012-12-31 14:00:00                  Snow  \n",
       "2012-12-31 15:00:00                  Snow  \n",
       "2012-12-31 16:00:00                  Snow  \n",
       "2012-12-31 17:00:00                  Snow  \n",
       "2012-12-31 18:00:00                  Snow  \n",
       "2012-12-31 19:00:00                  Snow  \n",
       "2012-12-31 20:00:00                  Snow  \n",
       "2012-12-31 21:00:00                  Snow  \n",
       "2012-12-31 22:00:00                  Snow  \n",
       "2012-12-31 23:00:00                  Snow  \n",
       "\n",
       "[8784 rows x 7 columns]"
      ]
     },
     "execution_count": 51,
     "metadata": {},
     "output_type": "execute_result"
    }
   ],
   "source": [
    "weather_2012"
   ]
  },
  {
   "cell_type": "code",
   "execution_count": 12,
   "metadata": {},
   "outputs": [
    {
     "data": {
      "text/plain": [
       "<matplotlib.axes._subplots.AxesSubplot at 0x196e442e9b0>"
      ]
     },
     "execution_count": 12,
     "metadata": {},
     "output_type": "execute_result"
    },
    {
     "data": {
      "image/png": "[encoded data removed]",
      "text/plain": [
       "<matplotlib.figure.Figure at 0x196e5965358>"
      ]
     },
     "metadata": {},
     "output_type": "display_data"
    }
   ],
   "source": [
    "weather_2012['Temp (C)'].resample('M').apply(np.median).plot(kind = 'bar')"
   ]
  },
  {
   "cell_type": "code",
   "execution_count": 28,
   "metadata": {},
   "outputs": [
    {
     "data": {
      "text/plain": [
       "<matplotlib.axes._subplots.AxesSubplot at 0x196e5a50e10>"
      ]
     },
     "execution_count": 28,
     "metadata": {},
     "output_type": "execute_result"
    },
    {
     "data": {
      "image/png": "[encoded data removed]",
      "text/plain": [
       "<matplotlib.figure.Figure at 0x196e5b27668>"
      ]
     },
     "metadata": {},
     "output_type": "display_data"
    }
   ],
   "source": [
    "isSnowing.astype(float).resample('M').apply(np.mean).plot(kind = 'bar')"
   ]
  },
  {
   "cell_type": "code",
   "execution_count": 29,
   "metadata": {
    "collapsed": true
   },
   "outputs": [],
   "source": [
    "snowiness = isSnowing.astype(float).resample('M').apply(np.mean)\n",
    "temp = weather_2012['Temp (C)'].resample('M').apply(np.median)\n",
    "\n",
    "temp.name = 'Temperature'\n",
    "snowiness.name = 'Snowiness'"
   ]
  },
  {
   "cell_type": "code",
   "execution_count": 34,
   "metadata": {},
   "outputs": [
    {
     "name": "stdout",
     "output_type": "stream",
     "text": [
      "            Temperature  Snowiness\n",
      "Date/Time                         \n",
      "2012-01-31        -7.05   0.240591\n",
      "2012-02-29        -4.10   0.162356\n",
      "2012-03-31         2.60   0.087366\n",
      "2012-04-30         6.30   0.015278\n",
      "2012-05-31        16.05   0.000000\n",
      "2012-06-30        19.60   0.000000\n",
      "2012-07-31        22.90   0.000000\n",
      "2012-08-31        22.20   0.000000\n",
      "2012-09-30        16.10   0.000000\n",
      "2012-10-31        11.30   0.000000\n",
      "2012-11-30         1.05   0.038889\n",
      "2012-12-31        -2.85   0.251344\n"
     ]
    }
   ],
   "source": [
    "stats = pd.concat([temp, snowiness], axis = 1)\n",
    "print(stats)"
   ]
  },
  {
   "cell_type": "code",
   "execution_count": 40,
   "metadata": {},
   "outputs": [
    {
     "data": {
      "text/plain": [
       "array([<matplotlib.axes._subplots.AxesSubplot object at 0x00000196E85592B0>,\n",
       "       <matplotlib.axes._subplots.AxesSubplot object at 0x00000196E8580D68>], dtype=object)"
      ]
     },
     "execution_count": 40,
     "metadata": {},
     "output_type": "execute_result"
    },
    {
     "data": {
      "image/png": "[encoded data removed]",
      "text/plain": [
       "<matplotlib.figure.Figure at 0x196e81b2da0>"
      ]
     },
     "metadata": {},
     "output_type": "display_data"
    }
   ],
   "source": [
    "stats.plot(kind = 'bar', subplots = True, figsize = (15, 10))"
   ]
  },
  {
   "cell_type": "markdown",
   "metadata": {},
   "source": [
    "## 7. Cleaning messy data"
   ]
  },
  {
   "cell_type": "code",
   "execution_count": 41,
   "metadata": {
    "collapsed": true
   },
   "outputs": [],
   "source": [
    "import pandas as pd"
   ]
  },
  {
   "cell_type": "code",
   "execution_count": 54,
   "metadata": {},
   "outputs": [],
   "source": [
    "na_val = ['NO CLUE', 'N/A', '0']\n",
    "req = pd.read_csv('./data/311-service-requests.csv', low_memory = False, na_values=na_val, \n",
    "                  dtype={'Incident Zip': str})"
   ]
  },
  {
   "cell_type": "code",
   "execution_count": 52,
   "metadata": {},
   "outputs": [
    {
     "data": {
      "text/plain": [
       "array(['11432', '11378', '10032', '10023', '10027', '11372', '11419',\n",
       "       '11417', '10011', '11225', '11218', '10003', '10029', '10466',\n",
       "       '11219', '10025', '10310', '11236', nan, '10033', '11216', '10016',\n",
       "       '10305', '10312', '10026', '10309', '10036', '11433', '11235',\n",
       "       '11213', '11379', '11101', '10014', '11231', '11234', '10457',\n",
       "       '10459', '10465', '11207', '10002', '10034', '11233', '10453',\n",
       "       '10456', '10469', '11374', '11221', '11421', '11215', '10007',\n",
       "       '10019', '11205', '11418', '11369', '11249', '10005', '10009',\n",
       "       '11211', '11412', '10458', '11229', '10065', '10030', '11222',\n",
       "       '10024', '10013', '11420', '11365', '10012', '11214', '11212',\n",
       "       '10022', '11232', '11040', '11226', '10281', '11102', '11208',\n",
       "       '10001', '10472', '11414', '11223', '10040', '11220', '11373',\n",
       "       '11203', '11691', '11356', '10017', '10452', '10280', '11217',\n",
       "       '10031', '11201', '11358', '10128', '11423', '10039', '10010',\n",
       "       '11209', '10021', '10037', '11413', '11375', '11238', '10473',\n",
       "       '11103', '11354', '11361', '11106', '11385', '10463', '10467',\n",
       "       '11204', '11237', '11377', '11364', '11434', '11435', '11210',\n",
       "       '11228', '11368', '11694', '10464', '11415', '10314', '10301',\n",
       "       '10018', '10038', '11105', '11230', '10468', '11104', '10471',\n",
       "       '11416', '10075', '11422', '11355', '10028', '10462', '10306',\n",
       "       '10461', '11224', '11429', '10035', '11366', '11362', '11206',\n",
       "       '10460', '10304', '11360', '11411', '10455', '10475', '10069',\n",
       "       '10303', '10308', '10302', '11357', '10470', '11367', '11370',\n",
       "       '10454', '10451', '11436', '11426', '10153', '11004', '11428',\n",
       "       '11427', '11001', '11363', '10004', '10474', '11430', '10000',\n",
       "       '10307', '11239', '10119', '10006', '10048', '11697', '11692',\n",
       "       '11693', '10573', '00083', '11559', '10020', '77056', '11776',\n",
       "       '70711', '10282', '11109', '10044', '02061', '77092-2016', '14225',\n",
       "       '55164-0737', '19711', '07306', '000000', '90010', '11747', '23541',\n",
       "       '11788', '07604', '10112', '11563', '11580', '07087', '11042',\n",
       "       '07093', '11501', '92123', '00000', '11575', '07109', '11797',\n",
       "       '10803', '11716', '11722', '11549-3650', '10162', '23502', '11518',\n",
       "       '07020', '08807', '11577', '07114', '11003', '07201', '61702',\n",
       "       '10103', '29616-0759', '35209-3114', '11520', '11735', '10129',\n",
       "       '11005', '41042', '11590', '06901', '07208', '11530', '13221',\n",
       "       '10954', '11111', '10107'], dtype=object)"
      ]
     },
     "execution_count": 52,
     "metadata": {},
     "output_type": "execute_result"
    }
   ],
   "source": [
    "req['Incident Zip'].unique()"
   ]
  },
  {
   "cell_type": "code",
   "execution_count": 57,
   "metadata": {
    "collapsed": true
   },
   "outputs": [],
   "source": [
    "def fix_zip(zips):\n",
    "    zips = zips.str.slice(0,5)\n",
    "    \n",
    "    zero_zips = zips == '00000'\n",
    "    zips[zero_zips] = np.nan\n",
    "    return zips"
   ]
  },
  {
   "cell_type": "code",
   "execution_count": 59,
   "metadata": {},
   "outputs": [],
   "source": [
    "req['Incident Zip'] = fix_zip(req['Incident Zip'])"
   ]
  },
  {
   "cell_type": "code",
   "execution_count": 61,
   "metadata": {},
   "outputs": [
    {
     "data": {
      "text/plain": [
       "array(['11432', '11378', '10032', '10023', '10027', '11372', '11419',\n",
       "       '11417', '10011', '11225', '11218', '10003', '10029', '10466',\n",
       "       '11219', '10025', '10310', '11236', nan, '10033', '11216', '10016',\n",
       "       '10305', '10312', '10026', '10309', '10036', '11433', '11235',\n",
       "       '11213', '11379', '11101', '10014', '11231', '11234', '10457',\n",
       "       '10459', '10465', '11207', '10002', '10034', '11233', '10453',\n",
       "       '10456', '10469', '11374', '11221', '11421', '11215', '10007',\n",
       "       '10019', '11205', '11418', '11369', '11249', '10005', '10009',\n",
       "       '11211', '11412', '10458', '11229', '10065', '10030', '11222',\n",
       "       '10024', '10013', '11420', '11365', '10012', '11214', '11212',\n",
       "       '10022', '11232', '11040', '11226', '10281', '11102', '11208',\n",
       "       '10001', '10472', '11414', '11223', '10040', '11220', '11373',\n",
       "       '11203', '11691', '11356', '10017', '10452', '10280', '11217',\n",
       "       '10031', '11201', '11358', '10128', '11423', '10039', '10010',\n",
       "       '11209', '10021', '10037', '11413', '11375', '11238', '10473',\n",
       "       '11103', '11354', '11361', '11106', '11385', '10463', '10467',\n",
       "       '11204', '11237', '11377', '11364', '11434', '11435', '11210',\n",
       "       '11228', '11368', '11694', '10464', '11415', '10314', '10301',\n",
       "       '10018', '10038', '11105', '11230', '10468', '11104', '10471',\n",
       "       '11416', '10075', '11422', '11355', '10028', '10462', '10306',\n",
       "       '10461', '11224', '11429', '10035', '11366', '11362', '11206',\n",
       "       '10460', '10304', '11360', '11411', '10455', '10475', '10069',\n",
       "       '10303', '10308', '10302', '11357', '10470', '11367', '11370',\n",
       "       '10454', '10451', '11436', '11426', '10153', '11004', '11428',\n",
       "       '11427', '11001', '11363', '10004', '10474', '11430', '10000',\n",
       "       '10307', '11239', '10119', '10006', '10048', '11697', '11692',\n",
       "       '11693', '10573', '00083', '11559', '10020', '77056', '11776',\n",
       "       '70711', '10282', '11109', '10044', '02061', '77092', '14225',\n",
       "       '55164', '19711', '07306', '90010', '11747', '23541', '11788',\n",
       "       '07604', '10112', '11563', '11580', '07087', '11042', '07093',\n",
       "       '11501', '92123', '11575', '07109', '11797', '10803', '11716',\n",
       "       '11722', '11549', '10162', '23502', '11518', '07020', '08807',\n",
       "       '11577', '07114', '11003', '07201', '61702', '10103', '29616',\n",
       "       '35209', '11520', '11735', '10129', '11005', '41042', '11590',\n",
       "       '06901', '07208', '11530', '13221', '10954', '11111', '10107'], dtype=object)"
      ]
     },
     "execution_count": 61,
     "metadata": {},
     "output_type": "execute_result"
    }
   ],
   "source": [
    "req['Incident Zip'].unique()"
   ]
  },
  {
   "cell_type": "markdown",
   "metadata": {},
   "source": [
    "## 7. Timestamps"
   ]
  },
  {
   "cell_type": "code",
   "execution_count": 62,
   "metadata": {
    "collapsed": true
   },
   "outputs": [],
   "source": [
    "import pandas as pd"
   ]
  },
  {
   "cell_type": "code",
   "execution_count": 64,
   "metadata": {
    "collapsed": true
   },
   "outputs": [],
   "source": [
    "popcon = pd.read_csv('./data/popularity-contest.txt', sep = ' ')[:-1]"
   ]
  },
  {
   "cell_type": "code",
   "execution_count": 66,
   "metadata": {},
   "outputs": [],
   "source": [
    "popcon.columns = ['atime', 'ctime', 'package-name', 'mru-program', 'tag']"
   ]
  },
  {
   "cell_type": "code",
   "execution_count": 70,
   "metadata": {},
   "outputs": [],
   "source": [
    "popcon['atime'] = popcon['atime'].astype(int)\n",
    "popcon['ctime'] = popcon['ctime'].astype(int)\n"
   ]
  },
  {
   "cell_type": "code",
   "execution_count": 73,
   "metadata": {},
   "outputs": [],
   "source": [
    "popcon['atime'] = pd.to_datetime(popcon['atime'], unit = 's')\n",
    "popcon['ctime'] = pd.to_datetime(popcon['ctime'], unit = 's')"
   ]
  },
  {
   "cell_type": "code",
   "execution_count": 78,
   "metadata": {},
   "outputs": [],
   "source": [
    "popcon = popcon[popcon['atime'] > '1970-01-01']"
   ]
  },
  {
   "cell_type": "code",
   "execution_count": 88,
   "metadata": {},
   "outputs": [
    {
     "data": {
      "text/html": [
       "<div>\n",
       "<style>\n",
       "    .dataframe thead tr:only-child th {\n",
       "        text-align: right;\n",
       "    }\n",
       "\n",
       "    .dataframe thead th {\n",
       "        text-align: left;\n",
       "    }\n",
       "\n",
       "    .dataframe tbody tr th {\n",
       "        vertical-align: top;\n",
       "    }\n",
       "</style>\n",
       "<table border=\"1\" class=\"dataframe\">\n",
       "  <thead>\n",
       "    <tr style=\"text-align: right;\">\n",
       "      <th></th>\n",
       "      <th>atime</th>\n",
       "      <th>ctime</th>\n",
       "      <th>package-name</th>\n",
       "      <th>mru-program</th>\n",
       "      <th>tag</th>\n",
       "    </tr>\n",
       "  </thead>\n",
       "  <tbody>\n",
       "    <tr>\n",
       "      <th>57</th>\n",
       "      <td>2013-12-17 04:55:39</td>\n",
       "      <td>2013-12-17 04:55:42</td>\n",
       "      <td>ddd</td>\n",
       "      <td>/usr/bin/ddd</td>\n",
       "      <td>&lt;RECENT-CTIME&gt;</td>\n",
       "    </tr>\n",
       "    <tr>\n",
       "      <th>450</th>\n",
       "      <td>2013-12-16 20:03:20</td>\n",
       "      <td>2013-12-16 20:05:13</td>\n",
       "      <td>nodejs</td>\n",
       "      <td>/usr/bin/npm</td>\n",
       "      <td>&lt;RECENT-CTIME&gt;</td>\n",
       "    </tr>\n",
       "    <tr>\n",
       "      <th>454</th>\n",
       "      <td>2013-12-16 20:03:20</td>\n",
       "      <td>2013-12-16 20:05:04</td>\n",
       "      <td>switchboard-plug-keyboard</td>\n",
       "      <td>/usr/lib/plugs/pantheon/keyboard/options.txt</td>\n",
       "      <td>&lt;RECENT-CTIME&gt;</td>\n",
       "    </tr>\n",
       "    <tr>\n",
       "      <th>445</th>\n",
       "      <td>2013-12-16 20:03:20</td>\n",
       "      <td>2013-12-16 20:05:04</td>\n",
       "      <td>thunderbird-locale-en</td>\n",
       "      <td>/usr/lib/thunderbird-addons/extensions/langpac...</td>\n",
       "      <td>&lt;RECENT-CTIME&gt;</td>\n",
       "    </tr>\n",
       "    <tr>\n",
       "      <th>396</th>\n",
       "      <td>2013-12-16 20:08:27</td>\n",
       "      <td>2013-12-16 20:05:03</td>\n",
       "      <td>software-center</td>\n",
       "      <td>/usr/sbin/update-software-center</td>\n",
       "      <td>&lt;RECENT-CTIME&gt;</td>\n",
       "    </tr>\n",
       "    <tr>\n",
       "      <th>449</th>\n",
       "      <td>2013-12-16 20:03:20</td>\n",
       "      <td>2013-12-16 20:05:00</td>\n",
       "      <td>samba-common-bin</td>\n",
       "      <td>/usr/bin/net.samba3</td>\n",
       "      <td>&lt;RECENT-CTIME&gt;</td>\n",
       "    </tr>\n",
       "    <tr>\n",
       "      <th>397</th>\n",
       "      <td>2013-12-16 20:08:25</td>\n",
       "      <td>2013-12-16 20:04:59</td>\n",
       "      <td>postgresql-client-9.1</td>\n",
       "      <td>/usr/lib/postgresql/9.1/bin/psql</td>\n",
       "      <td>&lt;RECENT-CTIME&gt;</td>\n",
       "    </tr>\n",
       "    <tr>\n",
       "      <th>398</th>\n",
       "      <td>2013-12-16 20:08:23</td>\n",
       "      <td>2013-12-16 20:04:58</td>\n",
       "      <td>postgresql-9.1</td>\n",
       "      <td>/usr/lib/postgresql/9.1/bin/postmaster</td>\n",
       "      <td>&lt;RECENT-CTIME&gt;</td>\n",
       "    </tr>\n",
       "    <tr>\n",
       "      <th>452</th>\n",
       "      <td>2013-12-16 20:03:20</td>\n",
       "      <td>2013-12-16 20:04:55</td>\n",
       "      <td>php5-dev</td>\n",
       "      <td>/usr/include/php5/main/snprintf.h</td>\n",
       "      <td>&lt;RECENT-CTIME&gt;</td>\n",
       "    </tr>\n",
       "    <tr>\n",
       "      <th>440</th>\n",
       "      <td>2013-12-16 20:03:20</td>\n",
       "      <td>2013-12-16 20:04:54</td>\n",
       "      <td>php-pear</td>\n",
       "      <td>/usr/share/php/XML/Util.php</td>\n",
       "      <td>&lt;RECENT-CTIME&gt;</td>\n",
       "    </tr>\n",
       "  </tbody>\n",
       "</table>\n",
       "</div>"
      ],
      "text/plain": [
       "                  atime               ctime               package-name  \\\n",
       "57  2013-12-17 04:55:39 2013-12-17 04:55:42                        ddd   \n",
       "450 2013-12-16 20:03:20 2013-12-16 20:05:13                     nodejs   \n",
       "454 2013-12-16 20:03:20 2013-12-16 20:05:04  switchboard-plug-keyboard   \n",
       "445 2013-12-16 20:03:20 2013-12-16 20:05:04      thunderbird-locale-en   \n",
       "396 2013-12-16 20:08:27 2013-12-16 20:05:03            software-center   \n",
       "449 2013-12-16 20:03:20 2013-12-16 20:05:00           samba-common-bin   \n",
       "397 2013-12-16 20:08:25 2013-12-16 20:04:59      postgresql-client-9.1   \n",
       "398 2013-12-16 20:08:23 2013-12-16 20:04:58             postgresql-9.1   \n",
       "452 2013-12-16 20:03:20 2013-12-16 20:04:55                   php5-dev   \n",
       "440 2013-12-16 20:03:20 2013-12-16 20:04:54                   php-pear   \n",
       "\n",
       "                                           mru-program             tag  \n",
       "57                                        /usr/bin/ddd  <RECENT-CTIME>  \n",
       "450                                       /usr/bin/npm  <RECENT-CTIME>  \n",
       "454       /usr/lib/plugs/pantheon/keyboard/options.txt  <RECENT-CTIME>  \n",
       "445  /usr/lib/thunderbird-addons/extensions/langpac...  <RECENT-CTIME>  \n",
       "396                   /usr/sbin/update-software-center  <RECENT-CTIME>  \n",
       "449                                /usr/bin/net.samba3  <RECENT-CTIME>  \n",
       "397                   /usr/lib/postgresql/9.1/bin/psql  <RECENT-CTIME>  \n",
       "398             /usr/lib/postgresql/9.1/bin/postmaster  <RECENT-CTIME>  \n",
       "452                  /usr/include/php5/main/snprintf.h  <RECENT-CTIME>  \n",
       "440                        /usr/share/php/XML/Util.php  <RECENT-CTIME>  "
      ]
     },
     "execution_count": 88,
     "metadata": {},
     "output_type": "execute_result"
    }
   ],
   "source": [
    "nonlib = popcon[~popcon['package-name'].str.contains('lib')]\n",
    "nonlib.sort_values('ctime', ascending = False)[:10]"
   ]
  }
 ],
 "metadata": {
  "kernelspec": {
   "display_name": "Python 3",
   "language": "python",
   "name": "python3"
  },
  "language_info": {
   "codemirror_mode": {
    "name": "ipython",
    "version": 3
   },
   "file_extension": ".py",
   "mimetype": "text/x-python",
   "name": "python",
   "nbconvert_exporter": "python",
   "pygments_lexer": "ipython3",
   "version": "3.6.3"
  }
 },
 "nbformat": 4,
 "nbformat_minor": 2
}
